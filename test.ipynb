{
 "cells": [
  {
   "cell_type": "code",
   "id": "initial_id",
   "metadata": {
    "collapsed": true,
    "ExecuteTime": {
     "end_time": "2024-11-03T20:03:27.842998Z",
     "start_time": "2024-11-03T20:03:26.981713Z"
    }
   },
   "source": [
    "import pandas as pd\n",
    "from sklearn.preprocessing import OneHotEncoder, StandardScaler\n",
    "from sklearn.decomposition import TruncatedSVD\n",
    "import numpy as np"
   ],
   "outputs": [],
   "execution_count": 1
  },
  {
   "metadata": {
    "ExecuteTime": {
     "end_time": "2024-11-03T20:03:31.717164Z",
     "start_time": "2024-11-03T20:03:31.557278Z"
    }
   },
   "cell_type": "code",
   "source": [
    "# Пример данных с категориальными и числовыми признаками\n",
    "data = pd.DataFrame({\n",
    "    'feature1': ['A', 'B', 'A', 'C', 'B', 'A', 'C', 'B', 'A', 'C'],\n",
    "    'feature2': ['X', 'Y', 'X', 'Z', 'Y', 'X', 'Z', 'Y', 'Z', 'X'],\n",
    "    'feature3_num': [5, 3, 6, 7, 2, 4, 5, 6, 3, 8],\n",
    "    'feature4_num': [10.5, 8.2, 9.0, 7.1, 11.3, 12.0, 10.8, 9.5, 7.9, 6.8],\n",
    "    'target': [1, 0, 1, 0, 1, 1, 0, 0, 1, 0]\n",
    "})\n",
    "\n",
    "# Выделяем целевую переменную\n",
    "target = data['target']\n",
    "features = data.drop(columns=['target'])\n",
    "\n",
    "# Применяем OneHotEncoding для категориальных признаков\n",
    "categorical_features = features.select_dtypes(include=['object'])\n",
    "encoder = OneHotEncoder(sparse=False)\n",
    "encoded_categorical = encoder.fit_transform(categorical_features)\n",
    "\n",
    "# Нормализуем числовые признаки\n",
    "numerical_features = features.select_dtypes(include=[np.number])\n",
    "scaler = StandardScaler()\n",
    "scaled_numerical = scaler.fit_transform(numerical_features)\n",
    "\n",
    "# Объединяем закодированные категориальные и числовые признаки\n",
    "processed_features = np.hstack((encoded_categorical, scaled_numerical))\n",
    "\n",
    "# Применяем SVD\n",
    "svd = TruncatedSVD(n_components=min(processed_features.shape)-1)\n",
    "svd.fit(processed_features)\n",
    "\n",
    "# Оцениваем важность признаков по первой компоненте\n",
    "importance = np.abs(svd.components_[0])\n",
    "\n"
   ],
   "id": "b3929aef88368e29",
   "outputs": [
    {
     "name": "stderr",
     "output_type": "stream",
     "text": [
      "C:\\Users\\mitay\\AppData\\Local\\anaconda3\\envs\\course_work\\lib\\site-packages\\sklearn\\preprocessing\\_encoders.py:975: FutureWarning: `sparse` was renamed to `sparse_output` in version 1.2 and will be removed in 1.4. `sparse_output` is ignored unless you leave `sparse` to its default value.\n",
      "  warnings.warn(\n"
     ]
    }
   ],
   "execution_count": 2
  },
  {
   "metadata": {
    "ExecuteTime": {
     "end_time": "2024-11-03T20:03:48.453241Z",
     "start_time": "2024-11-03T20:03:48.439528Z"
    }
   },
   "cell_type": "code",
   "source": [
    "\n",
    "# Соотносим важность с исходными признаками\n",
    "feature_names = list(encoder.get_feature_names_out(categorical_features.columns)) + list(numerical_features.columns)\n",
    "importance_df = pd.DataFrame({'feature': feature_names, 'importance': importance})\n",
    "importance_df = importance_df.sort_values(by='importance', ascending=False)\n",
    "\n",
    "print(importance_df)"
   ],
   "id": "39965328f0a5c2d1",
   "outputs": [
    {
     "name": "stdout",
     "output_type": "stream",
     "text": [
      "        feature  importance\n",
      "6  feature3_num    0.688377\n",
      "7  feature4_num    0.624717\n",
      "2    feature1_C    0.247419\n",
      "1    feature1_B    0.164244\n",
      "4    feature2_Y    0.164244\n",
      "5    feature2_Z    0.093404\n",
      "0    feature1_A    0.084557\n",
      "3    feature2_X    0.069457\n"
     ]
    }
   ],
   "execution_count": 3
  }
 ],
 "metadata": {
  "kernelspec": {
   "display_name": "Python 3",
   "language": "python",
   "name": "python3"
  },
  "language_info": {
   "codemirror_mode": {
    "name": "ipython",
    "version": 2
   },
   "file_extension": ".py",
   "mimetype": "text/x-python",
   "name": "python",
   "nbconvert_exporter": "python",
   "pygments_lexer": "ipython2",
   "version": "2.7.6"
  }
 },
 "nbformat": 4,
 "nbformat_minor": 5
}
