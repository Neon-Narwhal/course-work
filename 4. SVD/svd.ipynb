{
 "cells": [
  {
   "cell_type": "code",
   "id": "initial_id",
   "metadata": {
    "collapsed": true,
    "ExecuteTime": {
     "end_time": "2024-11-25T20:04:08.442612Z",
     "start_time": "2024-11-25T20:04:08.425618Z"
    }
   },
   "source": [
    "import pandas as pd\n",
    "import numpy as np"
   ],
   "outputs": [],
   "execution_count": 2
  },
  {
   "metadata": {},
   "cell_type": "markdown",
   "source": "# marketing_df",
   "id": "bc462c6e32afff31"
  },
  {
   "metadata": {
    "ExecuteTime": {
     "end_time": "2024-11-25T20:04:10.160919Z",
     "start_time": "2024-11-25T20:04:10.121911Z"
    }
   },
   "cell_type": "code",
   "source": "marketing_df = pd.read_csv('3. data_after_txt_proc/bank_marketing_data_after_txt_proc.csv')",
   "id": "6b9330498ed69abe",
   "outputs": [],
   "execution_count": 3
  },
  {
   "metadata": {
    "ExecuteTime": {
     "end_time": "2024-11-25T20:17:07.676601Z",
     "start_time": "2024-11-25T20:17:07.646593Z"
    }
   },
   "cell_type": "code",
   "source": [
    "X_m = marketing_df.drop(columns='deposit')\n",
    "y_m = marketing_df['deposit']\n",
    "\n",
    "U_m, S_m, VT_m = np.linalg.svd(X_m.values, full_matrices=False)  # full_matrices=False для компактной формы\n",
    "\n",
    "# Преобразуем S в диагональную матрицу\n",
    "Sigma_m = np.diag(S_m)"
   ],
   "id": "e2c7a27ab22c5bdc",
   "outputs": [],
   "execution_count": 32
  },
  {
   "metadata": {
    "ExecuteTime": {
     "end_time": "2024-11-25T20:21:12.579008Z",
     "start_time": "2024-11-25T20:21:12.548Z"
    }
   },
   "cell_type": "code",
   "source": [
    "# Преобразуем X в пространство компонент (главные компоненты)\n",
    "X_components_m = pd.DataFrame(U_m @ Sigma_m, columns=[f'Component{i+1}' for i in range(Sigma_m.shape[1])])\n",
    "\n",
    "# Считаем корреляцию между компонентами и таргетом\n",
    "correlations_m = X_components_m.corrwith(y_m)\n",
    "\n",
    "# Печатаем корреляции компонент с таргетом\n",
    "print(\"\\nКорреляция компонент с таргетом y:\")\n",
    "correlations_m.head()\n"
   ],
   "id": "8871cda8d5ac581c",
   "outputs": [
    {
     "name": "stdout",
     "output_type": "stream",
     "text": [
      "\n",
      "Корреляция компонент с таргетом y:\n"
     ]
    },
    {
     "data": {
      "text/plain": [
       "Component1   -0.455634\n",
       "Component2   -0.036032\n",
       "Component3    0.413318\n",
       "Component4   -0.081673\n",
       "Component5   -0.080450\n",
       "dtype: float64"
      ]
     },
     "execution_count": 59,
     "metadata": {},
     "output_type": "execute_result"
    }
   ],
   "execution_count": 59
  },
  {
   "metadata": {
    "ExecuteTime": {
     "end_time": "2024-11-25T20:21:00.010771Z",
     "start_time": "2024-11-25T20:20:59.984766Z"
    }
   },
   "cell_type": "code",
   "source": [
    "# Анализируем важность фичей через V^T\n",
    "VT_m_df = pd.DataFrame(VT_m, columns=X_m.columns, index=[f'Component{i+1}' for i in range(VT_m.shape[0])])\n",
    "\n",
    "print(\"\\nВклад фичей в компоненты (матрица V^T):\")\n",
    "VT_m_df.head()"
   ],
   "id": "c91ab346dba9f9ee",
   "outputs": [
    {
     "name": "stdout",
     "output_type": "stream",
     "text": [
      "\n",
      "Вклад фичей в компоненты (матрица V^T):\n"
     ]
    },
    {
     "data": {
      "text/plain": [
       "             balance       age   default   housing      loan       day  \\\n",
       "Component1 -0.000031 -0.059509 -0.000020 -0.000706 -0.000187 -0.022365   \n",
       "Component2 -0.000104 -0.080567  0.000005 -0.001132 -0.000169 -0.025313   \n",
       "Component3 -0.000698 -0.926142 -0.000349 -0.007350 -0.002519 -0.334571   \n",
       "Component4 -0.004822 -0.347654  0.000374  0.006760  0.001970  0.934099   \n",
       "Component5 -0.004834 -0.099965  0.001335  0.014262  0.007824 -0.117589   \n",
       "\n",
       "               month  duration  campaign     pdays  ...  job_entrepreneur  \\\n",
       "Component1 -0.008946 -0.995224 -0.003460 -0.073418  ...         -0.000042   \n",
       "Component2 -0.011176  0.078781 -0.002789 -0.993170  ...         -0.000016   \n",
       "Component3 -0.122480  0.057631 -0.054609  0.089866  ...         -0.000664   \n",
       "Component4  0.050654 -0.001154  0.058860  0.003599  ...         -0.000104   \n",
       "Component5  0.815961 -0.000791  0.551107 -0.000211  ...          0.002187   \n",
       "\n",
       "            job_housemaid  job_management  job_retired  job_self-employed  \\\n",
       "Component1      -0.000033       -0.000323    -0.000106          -0.000056   \n",
       "Component2      -0.000019       -0.000510    -0.000146          -0.000047   \n",
       "Component3      -0.000700       -0.004272    -0.002875          -0.000618   \n",
       "Component4      -0.000305        0.003015    -0.007044           0.000566   \n",
       "Component5      -0.000183        0.017993    -0.018375           0.002574   \n",
       "\n",
       "            job_services  job_student  job_technician  job_unemployed  \\\n",
       "Component1     -0.000124    -0.000041       -0.000230       -0.000052   \n",
       "Component2     -0.000152    -0.000109       -0.000271       -0.000063   \n",
       "Component3     -0.001263    -0.000166       -0.002949       -0.000489   \n",
       "Component4      0.001699     0.002194        0.003673        0.000162   \n",
       "Component5      0.003254     0.006394        0.012128       -0.001020   \n",
       "\n",
       "            job_unknown  \n",
       "Component1    -0.000008  \n",
       "Component2    -0.000016  \n",
       "Component3    -0.000167  \n",
       "Component4    -0.000120  \n",
       "Component5     0.000089  \n",
       "\n",
       "[5 rows x 37 columns]"
      ],
      "text/html": [
       "<div>\n",
       "<style scoped>\n",
       "    .dataframe tbody tr th:only-of-type {\n",
       "        vertical-align: middle;\n",
       "    }\n",
       "\n",
       "    .dataframe tbody tr th {\n",
       "        vertical-align: top;\n",
       "    }\n",
       "\n",
       "    .dataframe thead th {\n",
       "        text-align: right;\n",
       "    }\n",
       "</style>\n",
       "<table border=\"1\" class=\"dataframe\">\n",
       "  <thead>\n",
       "    <tr style=\"text-align: right;\">\n",
       "      <th></th>\n",
       "      <th>balance</th>\n",
       "      <th>age</th>\n",
       "      <th>default</th>\n",
       "      <th>housing</th>\n",
       "      <th>loan</th>\n",
       "      <th>day</th>\n",
       "      <th>month</th>\n",
       "      <th>duration</th>\n",
       "      <th>campaign</th>\n",
       "      <th>pdays</th>\n",
       "      <th>...</th>\n",
       "      <th>job_entrepreneur</th>\n",
       "      <th>job_housemaid</th>\n",
       "      <th>job_management</th>\n",
       "      <th>job_retired</th>\n",
       "      <th>job_self-employed</th>\n",
       "      <th>job_services</th>\n",
       "      <th>job_student</th>\n",
       "      <th>job_technician</th>\n",
       "      <th>job_unemployed</th>\n",
       "      <th>job_unknown</th>\n",
       "    </tr>\n",
       "  </thead>\n",
       "  <tbody>\n",
       "    <tr>\n",
       "      <th>Component1</th>\n",
       "      <td>-0.000031</td>\n",
       "      <td>-0.059509</td>\n",
       "      <td>-0.000020</td>\n",
       "      <td>-0.000706</td>\n",
       "      <td>-0.000187</td>\n",
       "      <td>-0.022365</td>\n",
       "      <td>-0.008946</td>\n",
       "      <td>-0.995224</td>\n",
       "      <td>-0.003460</td>\n",
       "      <td>-0.073418</td>\n",
       "      <td>...</td>\n",
       "      <td>-0.000042</td>\n",
       "      <td>-0.000033</td>\n",
       "      <td>-0.000323</td>\n",
       "      <td>-0.000106</td>\n",
       "      <td>-0.000056</td>\n",
       "      <td>-0.000124</td>\n",
       "      <td>-0.000041</td>\n",
       "      <td>-0.000230</td>\n",
       "      <td>-0.000052</td>\n",
       "      <td>-0.000008</td>\n",
       "    </tr>\n",
       "    <tr>\n",
       "      <th>Component2</th>\n",
       "      <td>-0.000104</td>\n",
       "      <td>-0.080567</td>\n",
       "      <td>0.000005</td>\n",
       "      <td>-0.001132</td>\n",
       "      <td>-0.000169</td>\n",
       "      <td>-0.025313</td>\n",
       "      <td>-0.011176</td>\n",
       "      <td>0.078781</td>\n",
       "      <td>-0.002789</td>\n",
       "      <td>-0.993170</td>\n",
       "      <td>...</td>\n",
       "      <td>-0.000016</td>\n",
       "      <td>-0.000019</td>\n",
       "      <td>-0.000510</td>\n",
       "      <td>-0.000146</td>\n",
       "      <td>-0.000047</td>\n",
       "      <td>-0.000152</td>\n",
       "      <td>-0.000109</td>\n",
       "      <td>-0.000271</td>\n",
       "      <td>-0.000063</td>\n",
       "      <td>-0.000016</td>\n",
       "    </tr>\n",
       "    <tr>\n",
       "      <th>Component3</th>\n",
       "      <td>-0.000698</td>\n",
       "      <td>-0.926142</td>\n",
       "      <td>-0.000349</td>\n",
       "      <td>-0.007350</td>\n",
       "      <td>-0.002519</td>\n",
       "      <td>-0.334571</td>\n",
       "      <td>-0.122480</td>\n",
       "      <td>0.057631</td>\n",
       "      <td>-0.054609</td>\n",
       "      <td>0.089866</td>\n",
       "      <td>...</td>\n",
       "      <td>-0.000664</td>\n",
       "      <td>-0.000700</td>\n",
       "      <td>-0.004272</td>\n",
       "      <td>-0.002875</td>\n",
       "      <td>-0.000618</td>\n",
       "      <td>-0.001263</td>\n",
       "      <td>-0.000166</td>\n",
       "      <td>-0.002949</td>\n",
       "      <td>-0.000489</td>\n",
       "      <td>-0.000167</td>\n",
       "    </tr>\n",
       "    <tr>\n",
       "      <th>Component4</th>\n",
       "      <td>-0.004822</td>\n",
       "      <td>-0.347654</td>\n",
       "      <td>0.000374</td>\n",
       "      <td>0.006760</td>\n",
       "      <td>0.001970</td>\n",
       "      <td>0.934099</td>\n",
       "      <td>0.050654</td>\n",
       "      <td>-0.001154</td>\n",
       "      <td>0.058860</td>\n",
       "      <td>0.003599</td>\n",
       "      <td>...</td>\n",
       "      <td>-0.000104</td>\n",
       "      <td>-0.000305</td>\n",
       "      <td>0.003015</td>\n",
       "      <td>-0.007044</td>\n",
       "      <td>0.000566</td>\n",
       "      <td>0.001699</td>\n",
       "      <td>0.002194</td>\n",
       "      <td>0.003673</td>\n",
       "      <td>0.000162</td>\n",
       "      <td>-0.000120</td>\n",
       "    </tr>\n",
       "    <tr>\n",
       "      <th>Component5</th>\n",
       "      <td>-0.004834</td>\n",
       "      <td>-0.099965</td>\n",
       "      <td>0.001335</td>\n",
       "      <td>0.014262</td>\n",
       "      <td>0.007824</td>\n",
       "      <td>-0.117589</td>\n",
       "      <td>0.815961</td>\n",
       "      <td>-0.000791</td>\n",
       "      <td>0.551107</td>\n",
       "      <td>-0.000211</td>\n",
       "      <td>...</td>\n",
       "      <td>0.002187</td>\n",
       "      <td>-0.000183</td>\n",
       "      <td>0.017993</td>\n",
       "      <td>-0.018375</td>\n",
       "      <td>0.002574</td>\n",
       "      <td>0.003254</td>\n",
       "      <td>0.006394</td>\n",
       "      <td>0.012128</td>\n",
       "      <td>-0.001020</td>\n",
       "      <td>0.000089</td>\n",
       "    </tr>\n",
       "  </tbody>\n",
       "</table>\n",
       "<p>5 rows × 37 columns</p>\n",
       "</div>"
      ]
     },
     "execution_count": 57,
     "metadata": {},
     "output_type": "execute_result"
    }
   ],
   "execution_count": 57
  },
  {
   "metadata": {
    "ExecuteTime": {
     "end_time": "2024-11-25T20:20:48.103237Z",
     "start_time": "2024-11-25T20:20:48.085502Z"
    }
   },
   "cell_type": "code",
   "source": [
    "# Вычисляем итоговую важность фичей\n",
    "# Умножаем веса фичей (V^T) на абсолютные значения корреляций компонент\n",
    "feature_importance_m = VT_m_df.T.dot(correlations_m.abs())\n",
    "feature_importance_m = feature_importance_m / feature_importance_m.sum()  # Нормализуем важности\n",
    "\n",
    "print(\"\\nВажность фичей относительно y:\")\n",
    "feature_importance_m.sort_values(ascending=False)"
   ],
   "id": "98bdffdd573f8019",
   "outputs": [
    {
     "name": "stdout",
     "output_type": "stream",
     "text": [
      "\n",
      "Важность фичей относительно y:\n"
     ]
    },
    {
     "data": {
      "text/plain": [
       "job_admin.             1.225395\n",
       "marital_divorced       1.150973\n",
       "education_secondary    1.061958\n",
       "job_services           1.019848\n",
       "age                    0.785685\n",
       "education_unknown      0.776477\n",
       "default                0.751899\n",
       "education_tertiary     0.559438\n",
       "job_management         0.548941\n",
       "marital_single         0.491469\n",
       "education_primary      0.368661\n",
       "job_self-employed      0.362180\n",
       "duration               0.262671\n",
       "balance                0.159432\n",
       "job_entrepreneur       0.143251\n",
       "pdays                  0.132353\n",
       "contact_cellular       0.110082\n",
       "job_technician         0.077909\n",
       "poutcome_failure       0.055371\n",
       "previous               0.053309\n",
       "day                    0.015772\n",
       "job_unknown           -0.019712\n",
       "contact_telephone     -0.024256\n",
       "marital_married       -0.056869\n",
       "job_housemaid         -0.086969\n",
       "contact_unknown       -0.175223\n",
       "housing               -0.177706\n",
       "poutcome_success      -0.264437\n",
       "campaign              -0.303516\n",
       "job_student           -0.382017\n",
       "poutcome_other        -0.596871\n",
       "month                 -0.616883\n",
       "job_unemployed        -0.782013\n",
       "job_blue-collar       -1.007979\n",
       "loan                  -1.226569\n",
       "poutcome_unknown      -1.524022\n",
       "job_retired           -1.868030\n",
       "dtype: float64"
      ]
     },
     "execution_count": 55,
     "metadata": {},
     "output_type": "execute_result"
    }
   ],
   "execution_count": 55
  },
  {
   "metadata": {
    "ExecuteTime": {
     "end_time": "2024-11-25T20:26:30.429316Z",
     "start_time": "2024-11-25T20:26:30.419315Z"
    }
   },
   "cell_type": "code",
   "source": "feature_importance_m.to_csv('4. SVD/SVD_weights_marketing_df.csv')",
   "id": "9bd872e91fef8e37",
   "outputs": [],
   "execution_count": 69
  },
  {
   "metadata": {},
   "cell_type": "markdown",
   "source": "# personal_df",
   "id": "86043b829462c3f5"
  },
  {
   "metadata": {
    "ExecuteTime": {
     "end_time": "2024-11-25T20:17:10.430165Z",
     "start_time": "2024-11-25T20:17:10.411651Z"
    }
   },
   "cell_type": "code",
   "source": "personal_df = pd.read_csv('3. data_after_txt_proc/Bank_Personal_Loan_Modelling_after_txt_proc.csv')",
   "id": "aeb37e544d28a777",
   "outputs": [],
   "execution_count": 36
  },
  {
   "metadata": {
    "ExecuteTime": {
     "end_time": "2024-11-25T20:21:35.559362Z",
     "start_time": "2024-11-25T20:21:35.552360Z"
    }
   },
   "cell_type": "code",
   "source": [
    "# Разделяем фичи и таргет\n",
    "X_p = personal_df.drop(columns='Personal Loan')\n",
    "y_p = personal_df['Personal Loan']\n",
    "\n",
    "U_p, S_p, VT_p = np.linalg.svd(X_p.values, full_matrices=False)  # full_matrices=False для компактной формы\n",
    "\n",
    "# Создаём диагональную матрицу Sigma_p из сингулярных значений S_p\n",
    "Sigma_p = np.diag(S_p)\n"
   ],
   "id": "8a480138ee0c91ea",
   "outputs": [],
   "execution_count": 61
  },
  {
   "metadata": {
    "ExecuteTime": {
     "end_time": "2024-11-25T20:21:36.219032Z",
     "start_time": "2024-11-25T20:21:36.190027Z"
    }
   },
   "cell_type": "code",
   "source": [
    "# Преобразуем X в пространство компонент (главные компоненты)\n",
    "X_p_components = pd.DataFrame(U_p @ Sigma_p, columns=[f'Component{i+1}' for i in range(Sigma_p.shape[1])])\n",
    "\n",
    "# Считаем корреляцию между компонентами и таргетом\n",
    "correlations_p = X_p_components.corrwith(y_p)\n",
    "\n",
    "# Печатаем корреляции компонент с таргетом\n",
    "print(\"\\nКорреляция компонент с таргетом y:\")\n",
    "correlations_p.head()\n"
   ],
   "id": "913481e8adac1ce2",
   "outputs": [
    {
     "name": "stdout",
     "output_type": "stream",
     "text": [
      "\n",
      "Корреляция компонент с таргетом y:\n"
     ]
    },
    {
     "data": {
      "text/plain": [
       "Component1   -0.000120\n",
       "Component2    0.166552\n",
       "Component3    0.474886\n",
       "Component4    0.018937\n",
       "Component5    0.053070\n",
       "dtype: float64"
      ]
     },
     "execution_count": 62,
     "metadata": {},
     "output_type": "execute_result"
    }
   ],
   "execution_count": 62
  },
  {
   "metadata": {
    "ExecuteTime": {
     "end_time": "2024-11-25T20:21:46.562879Z",
     "start_time": "2024-11-25T20:21:46.548279Z"
    }
   },
   "cell_type": "code",
   "source": [
    "# Анализируем важность фичей через V^T\n",
    "VT_p_df = pd.DataFrame(VT_p, columns=X_p.columns, index=[f'Component{i+1}' for i in range(VT_p.shape[0])])\n",
    "\n",
    "print(\"\\nВклад фичей в компоненты (матрица V^T):\")\n",
    "VT_p_df.head()"
   ],
   "id": "661fa939b8f331f6",
   "outputs": [
    {
     "name": "stdout",
     "output_type": "stream",
     "text": [
      "\n",
      "Вклад фичей в компоненты (матрица V^T):\n"
     ]
    },
    {
     "data": {
      "text/plain": [
       "                 Age  Experience    Income  ZIP Code    Family     CCAvg  \\\n",
       "Component1 -0.000486   -0.000216 -0.000791 -0.999999 -0.000026 -0.000021   \n",
       "Component2 -0.001622   -0.001401  0.115656 -0.000693 -0.000316  0.002436   \n",
       "Component3 -0.013814   -0.012356  0.992792 -0.000706 -0.003910  0.024611   \n",
       "Component4  0.708394    0.705557  0.018662 -0.000511 -0.003830 -0.001532   \n",
       "Component5  0.039111   -0.036574 -0.024741 -0.000012 -0.027328  0.997768   \n",
       "\n",
       "            Education  Mortgage  Securities Account    CD Account    Online  \\\n",
       "Component1  -0.000020 -0.000606           -0.000001 -6.492255e-07 -0.000006   \n",
       "Component2  -0.000345  0.993284           -0.000016  2.255839e-04 -0.000025   \n",
       "Component3  -0.003358 -0.115702           -0.000007  7.920048e-04  0.000184   \n",
       "Component4   0.001214 -0.000018           -0.000010  2.547185e-04  0.000486   \n",
       "Component5  -0.010216  0.000433            0.005313  6.436206e-03 -0.007131   \n",
       "\n",
       "              CreditCard  \n",
       "Component1 -3.155333e-06  \n",
       "Component2 -3.236996e-05  \n",
       "Component3 -9.001864e-07  \n",
       "Component4  2.552628e-04  \n",
       "Component5 -2.738936e-03  "
      ],
      "text/html": [
       "<div>\n",
       "<style scoped>\n",
       "    .dataframe tbody tr th:only-of-type {\n",
       "        vertical-align: middle;\n",
       "    }\n",
       "\n",
       "    .dataframe tbody tr th {\n",
       "        vertical-align: top;\n",
       "    }\n",
       "\n",
       "    .dataframe thead th {\n",
       "        text-align: right;\n",
       "    }\n",
       "</style>\n",
       "<table border=\"1\" class=\"dataframe\">\n",
       "  <thead>\n",
       "    <tr style=\"text-align: right;\">\n",
       "      <th></th>\n",
       "      <th>Age</th>\n",
       "      <th>Experience</th>\n",
       "      <th>Income</th>\n",
       "      <th>ZIP Code</th>\n",
       "      <th>Family</th>\n",
       "      <th>CCAvg</th>\n",
       "      <th>Education</th>\n",
       "      <th>Mortgage</th>\n",
       "      <th>Securities Account</th>\n",
       "      <th>CD Account</th>\n",
       "      <th>Online</th>\n",
       "      <th>CreditCard</th>\n",
       "    </tr>\n",
       "  </thead>\n",
       "  <tbody>\n",
       "    <tr>\n",
       "      <th>Component1</th>\n",
       "      <td>-0.000486</td>\n",
       "      <td>-0.000216</td>\n",
       "      <td>-0.000791</td>\n",
       "      <td>-0.999999</td>\n",
       "      <td>-0.000026</td>\n",
       "      <td>-0.000021</td>\n",
       "      <td>-0.000020</td>\n",
       "      <td>-0.000606</td>\n",
       "      <td>-0.000001</td>\n",
       "      <td>-6.492255e-07</td>\n",
       "      <td>-0.000006</td>\n",
       "      <td>-3.155333e-06</td>\n",
       "    </tr>\n",
       "    <tr>\n",
       "      <th>Component2</th>\n",
       "      <td>-0.001622</td>\n",
       "      <td>-0.001401</td>\n",
       "      <td>0.115656</td>\n",
       "      <td>-0.000693</td>\n",
       "      <td>-0.000316</td>\n",
       "      <td>0.002436</td>\n",
       "      <td>-0.000345</td>\n",
       "      <td>0.993284</td>\n",
       "      <td>-0.000016</td>\n",
       "      <td>2.255839e-04</td>\n",
       "      <td>-0.000025</td>\n",
       "      <td>-3.236996e-05</td>\n",
       "    </tr>\n",
       "    <tr>\n",
       "      <th>Component3</th>\n",
       "      <td>-0.013814</td>\n",
       "      <td>-0.012356</td>\n",
       "      <td>0.992792</td>\n",
       "      <td>-0.000706</td>\n",
       "      <td>-0.003910</td>\n",
       "      <td>0.024611</td>\n",
       "      <td>-0.003358</td>\n",
       "      <td>-0.115702</td>\n",
       "      <td>-0.000007</td>\n",
       "      <td>7.920048e-04</td>\n",
       "      <td>0.000184</td>\n",
       "      <td>-9.001864e-07</td>\n",
       "    </tr>\n",
       "    <tr>\n",
       "      <th>Component4</th>\n",
       "      <td>0.708394</td>\n",
       "      <td>0.705557</td>\n",
       "      <td>0.018662</td>\n",
       "      <td>-0.000511</td>\n",
       "      <td>-0.003830</td>\n",
       "      <td>-0.001532</td>\n",
       "      <td>0.001214</td>\n",
       "      <td>-0.000018</td>\n",
       "      <td>-0.000010</td>\n",
       "      <td>2.547185e-04</td>\n",
       "      <td>0.000486</td>\n",
       "      <td>2.552628e-04</td>\n",
       "    </tr>\n",
       "    <tr>\n",
       "      <th>Component5</th>\n",
       "      <td>0.039111</td>\n",
       "      <td>-0.036574</td>\n",
       "      <td>-0.024741</td>\n",
       "      <td>-0.000012</td>\n",
       "      <td>-0.027328</td>\n",
       "      <td>0.997768</td>\n",
       "      <td>-0.010216</td>\n",
       "      <td>0.000433</td>\n",
       "      <td>0.005313</td>\n",
       "      <td>6.436206e-03</td>\n",
       "      <td>-0.007131</td>\n",
       "      <td>-2.738936e-03</td>\n",
       "    </tr>\n",
       "  </tbody>\n",
       "</table>\n",
       "</div>"
      ]
     },
     "execution_count": 63,
     "metadata": {},
     "output_type": "execute_result"
    }
   ],
   "execution_count": 63
  },
  {
   "metadata": {
    "ExecuteTime": {
     "end_time": "2024-11-25T20:22:33.453984Z",
     "start_time": "2024-11-25T20:22:33.430979Z"
    }
   },
   "cell_type": "code",
   "source": [
    "# Вычисляем итоговую важность фичей\n",
    "# Умножаем веса фичей (V^T) на абсолютные значения корреляций компонент\n",
    "feature_importance_p = VT_p_df.T.dot(correlations_p.abs())\n",
    "feature_importance_p = feature_importance_p / feature_importance_p.sum()  # Нормализуем важности\n",
    "\n",
    "print(\"\\nВажность фичей относительно y:\")\n",
    "feature_importance_p.sort_values(ascending=False)"
   ],
   "id": "cf24a80cd81e5851",
   "outputs": [
    {
     "name": "stdout",
     "output_type": "stream",
     "text": [
      "\n",
      "Важность фичей относительно y:\n"
     ]
    },
    {
     "data": {
      "text/plain": [
       "Income                0.736229\n",
       "Securities Account    0.229643\n",
       "Age                   0.219508\n",
       "Family                0.206053\n",
       "Mortgage              0.165924\n",
       "CCAvg                 0.086395\n",
       "CreditCard            0.009198\n",
       "Online                0.007079\n",
       "ZIP Code             -0.000931\n",
       "Education            -0.194835\n",
       "Experience           -0.197835\n",
       "CD Account           -0.266427\n",
       "dtype: float64"
      ]
     },
     "execution_count": 65,
     "metadata": {},
     "output_type": "execute_result"
    }
   ],
   "execution_count": 65
  },
  {
   "metadata": {
    "ExecuteTime": {
     "end_time": "2024-11-25T20:26:44.115384Z",
     "start_time": "2024-11-25T20:26:44.100350Z"
    }
   },
   "cell_type": "code",
   "source": "feature_importance_p.to_csv('4. SVD/SVD_weights_personal_df.csv')",
   "id": "9884b199f73f497c",
   "outputs": [],
   "execution_count": 70
  }
 ],
 "metadata": {
  "kernelspec": {
   "display_name": "Python 3",
   "language": "python",
   "name": "python3"
  },
  "language_info": {
   "codemirror_mode": {
    "name": "ipython",
    "version": 2
   },
   "file_extension": ".py",
   "mimetype": "text/x-python",
   "name": "python",
   "nbconvert_exporter": "python",
   "pygments_lexer": "ipython2",
   "version": "2.7.6"
  }
 },
 "nbformat": 4,
 "nbformat_minor": 5
}
