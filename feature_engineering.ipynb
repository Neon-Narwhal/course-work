{
 "cells": [
  {
   "cell_type": "code",
   "id": "initial_id",
   "metadata": {
    "collapsed": true,
    "ExecuteTime": {
     "end_time": "2024-11-04T20:28:59.586560Z",
     "start_time": "2024-11-04T20:28:58.472160Z"
    }
   },
   "source": [
    "from autofeat import AutoFeatRegressor\n",
    "from sklearn.model_selection import train_test_split\n",
    "from sklearn.linear_model import LinearRegression\n",
    "import pandas as pd\n"
   ],
   "outputs": [],
   "execution_count": 1
  },
  {
   "metadata": {
    "ExecuteTime": {
     "end_time": "2024-11-04T20:30:29.784193Z",
     "start_time": "2024-11-04T20:30:29.763189Z"
    }
   },
   "cell_type": "code",
   "source": [
    "marketing_df = pd.read_csv('bank_Marketing_Data.xls')\n",
    "\n",
    "# Разделяем данные\n",
    "X = marketing_df.drop(columns='deposit')\n",
    "y = marketing_df['deposit']"
   ],
   "id": "c87bb50849e75602",
   "outputs": [],
   "execution_count": 5
  },
  {
   "metadata": {
    "ExecuteTime": {
     "end_time": "2024-11-04T20:30:32.986834Z",
     "start_time": "2024-11-04T20:30:31.734137Z"
    }
   },
   "cell_type": "code",
   "source": [
    "# Инициализируем AutoFeat и обучаем его на данных\n",
    "feat_eng = AutoFeatRegressor(verbose=1, featsel_runs=3)\n",
    "X_eng = feat_eng.fit_transform(X, y)\n",
    "\n",
    "# Обучение модели на новых признаках\n",
    "model = LinearRegression()\n",
    "model.fit(X_eng, y)\n",
    "\n"
   ],
   "id": "b2ee92f1a2e013ef",
   "outputs": [
    {
     "ename": "ValueError",
     "evalue": "could not convert string to float: 'yes'",
     "output_type": "error",
     "traceback": [
      "\u001B[1;31m---------------------------------------------------------------------------\u001B[0m",
      "\u001B[1;31mValueError\u001B[0m                                Traceback (most recent call last)",
      "Cell \u001B[1;32mIn[6], line 3\u001B[0m\n\u001B[0;32m      1\u001B[0m \u001B[38;5;66;03m# Инициализируем AutoFeat и обучаем его на данных\u001B[39;00m\n\u001B[0;32m      2\u001B[0m feat_eng \u001B[38;5;241m=\u001B[39m AutoFeatRegressor(verbose\u001B[38;5;241m=\u001B[39m\u001B[38;5;241m1\u001B[39m, featsel_runs\u001B[38;5;241m=\u001B[39m\u001B[38;5;241m3\u001B[39m)\n\u001B[1;32m----> 3\u001B[0m X_eng \u001B[38;5;241m=\u001B[39m \u001B[43mfeat_eng\u001B[49m\u001B[38;5;241;43m.\u001B[39;49m\u001B[43mfit_transform\u001B[49m\u001B[43m(\u001B[49m\u001B[43mX\u001B[49m\u001B[43m,\u001B[49m\u001B[43m \u001B[49m\u001B[43my\u001B[49m\u001B[43m)\u001B[49m\n\u001B[0;32m      5\u001B[0m \u001B[38;5;66;03m# Обучение модели на новых признаках\u001B[39;00m\n\u001B[0;32m      6\u001B[0m model \u001B[38;5;241m=\u001B[39m LinearRegression()\n",
      "File \u001B[1;32m~\\AppData\\Local\\anaconda3\\envs\\course_work\\lib\\site-packages\\autofeat\\autofeat.py:290\u001B[0m, in \u001B[0;36mAutoFeatModel.fit_transform\u001B[1;34m(self, X, y)\u001B[0m\n\u001B[0;32m    288\u001B[0m cols \u001B[38;5;241m=\u001B[39m [\u001B[38;5;28mstr\u001B[39m(c) \u001B[38;5;28;01mfor\u001B[39;00m c \u001B[38;5;129;01min\u001B[39;00m X\u001B[38;5;241m.\u001B[39mcolumns] \u001B[38;5;28;01mif\u001B[39;00m \u001B[38;5;28misinstance\u001B[39m(X, pd\u001B[38;5;241m.\u001B[39mDataFrame) \u001B[38;5;28;01melse\u001B[39;00m []\n\u001B[0;32m    289\u001B[0m \u001B[38;5;66;03m# check input variables\u001B[39;00m\n\u001B[1;32m--> 290\u001B[0m X, target \u001B[38;5;241m=\u001B[39m \u001B[43mcheck_X_y\u001B[49m\u001B[43m(\u001B[49m\u001B[43mX\u001B[49m\u001B[43m,\u001B[49m\u001B[43m \u001B[49m\u001B[43my\u001B[49m\u001B[43m,\u001B[49m\u001B[43m \u001B[49m\u001B[43my_numeric\u001B[49m\u001B[38;5;241;43m=\u001B[39;49m\u001B[38;5;28;43mself\u001B[39;49m\u001B[38;5;241;43m.\u001B[39;49m\u001B[43mproblem_type\u001B[49m\u001B[43m \u001B[49m\u001B[38;5;241;43m==\u001B[39;49m\u001B[43m \u001B[49m\u001B[38;5;124;43m\"\u001B[39;49m\u001B[38;5;124;43mregression\u001B[39;49m\u001B[38;5;124;43m\"\u001B[39;49m\u001B[43m,\u001B[49m\u001B[43m \u001B[49m\u001B[43mdtype\u001B[49m\u001B[38;5;241;43m=\u001B[39;49m\u001B[38;5;28;43;01mNone\u001B[39;49;00m\u001B[43m)\u001B[49m\n\u001B[0;32m    291\u001B[0m \u001B[38;5;28;01mif\u001B[39;00m \u001B[38;5;129;01mnot\u001B[39;00m cols:\n\u001B[0;32m    292\u001B[0m     \u001B[38;5;66;03m# the additional zeros in the name are because of the variable check in _generate_features,\u001B[39;00m\n\u001B[0;32m    293\u001B[0m     \u001B[38;5;66;03m# where we check if the column name occurs in the the expression. this would lead to many\u001B[39;00m\n\u001B[0;32m    294\u001B[0m     \u001B[38;5;66;03m# false positives if we have features x1 and x10...x19 instead of x001...x019.\u001B[39;00m\n\u001B[0;32m    295\u001B[0m     cols \u001B[38;5;241m=\u001B[39m [\u001B[38;5;124mf\u001B[39m\u001B[38;5;124m\"\u001B[39m\u001B[38;5;124mx\u001B[39m\u001B[38;5;132;01m{\u001B[39;00mi\u001B[38;5;132;01m:\u001B[39;00m\u001B[38;5;124m03\u001B[39m\u001B[38;5;132;01m}\u001B[39;00m\u001B[38;5;124m\"\u001B[39m \u001B[38;5;28;01mfor\u001B[39;00m i \u001B[38;5;129;01min\u001B[39;00m \u001B[38;5;28mrange\u001B[39m(X\u001B[38;5;241m.\u001B[39mshape[\u001B[38;5;241m1\u001B[39m])]\n",
      "File \u001B[1;32m~\\AppData\\Local\\anaconda3\\envs\\course_work\\lib\\site-packages\\sklearn\\utils\\validation.py:1162\u001B[0m, in \u001B[0;36mcheck_X_y\u001B[1;34m(X, y, accept_sparse, accept_large_sparse, dtype, order, copy, force_all_finite, ensure_2d, allow_nd, multi_output, ensure_min_samples, ensure_min_features, y_numeric, estimator)\u001B[0m\n\u001B[0;32m   1142\u001B[0m     \u001B[38;5;28;01mraise\u001B[39;00m \u001B[38;5;167;01mValueError\u001B[39;00m(\n\u001B[0;32m   1143\u001B[0m         \u001B[38;5;124mf\u001B[39m\u001B[38;5;124m\"\u001B[39m\u001B[38;5;132;01m{\u001B[39;00mestimator_name\u001B[38;5;132;01m}\u001B[39;00m\u001B[38;5;124m requires y to be passed, but the target y is None\u001B[39m\u001B[38;5;124m\"\u001B[39m\n\u001B[0;32m   1144\u001B[0m     )\n\u001B[0;32m   1146\u001B[0m X \u001B[38;5;241m=\u001B[39m check_array(\n\u001B[0;32m   1147\u001B[0m     X,\n\u001B[0;32m   1148\u001B[0m     accept_sparse\u001B[38;5;241m=\u001B[39maccept_sparse,\n\u001B[1;32m   (...)\u001B[0m\n\u001B[0;32m   1159\u001B[0m     input_name\u001B[38;5;241m=\u001B[39m\u001B[38;5;124m\"\u001B[39m\u001B[38;5;124mX\u001B[39m\u001B[38;5;124m\"\u001B[39m,\n\u001B[0;32m   1160\u001B[0m )\n\u001B[1;32m-> 1162\u001B[0m y \u001B[38;5;241m=\u001B[39m \u001B[43m_check_y\u001B[49m\u001B[43m(\u001B[49m\u001B[43my\u001B[49m\u001B[43m,\u001B[49m\u001B[43m \u001B[49m\u001B[43mmulti_output\u001B[49m\u001B[38;5;241;43m=\u001B[39;49m\u001B[43mmulti_output\u001B[49m\u001B[43m,\u001B[49m\u001B[43m \u001B[49m\u001B[43my_numeric\u001B[49m\u001B[38;5;241;43m=\u001B[39;49m\u001B[43my_numeric\u001B[49m\u001B[43m,\u001B[49m\u001B[43m \u001B[49m\u001B[43mestimator\u001B[49m\u001B[38;5;241;43m=\u001B[39;49m\u001B[43mestimator\u001B[49m\u001B[43m)\u001B[49m\n\u001B[0;32m   1164\u001B[0m check_consistent_length(X, y)\n\u001B[0;32m   1166\u001B[0m \u001B[38;5;28;01mreturn\u001B[39;00m X, y\n",
      "File \u001B[1;32m~\\AppData\\Local\\anaconda3\\envs\\course_work\\lib\\site-packages\\sklearn\\utils\\validation.py:1187\u001B[0m, in \u001B[0;36m_check_y\u001B[1;34m(y, multi_output, y_numeric, estimator)\u001B[0m\n\u001B[0;32m   1185\u001B[0m     _ensure_no_complex_data(y)\n\u001B[0;32m   1186\u001B[0m \u001B[38;5;28;01mif\u001B[39;00m y_numeric \u001B[38;5;129;01mand\u001B[39;00m y\u001B[38;5;241m.\u001B[39mdtype\u001B[38;5;241m.\u001B[39mkind \u001B[38;5;241m==\u001B[39m \u001B[38;5;124m\"\u001B[39m\u001B[38;5;124mO\u001B[39m\u001B[38;5;124m\"\u001B[39m:\n\u001B[1;32m-> 1187\u001B[0m     y \u001B[38;5;241m=\u001B[39m \u001B[43my\u001B[49m\u001B[38;5;241;43m.\u001B[39;49m\u001B[43mastype\u001B[49m\u001B[43m(\u001B[49m\u001B[43mnp\u001B[49m\u001B[38;5;241;43m.\u001B[39;49m\u001B[43mfloat64\u001B[49m\u001B[43m)\u001B[49m\n\u001B[0;32m   1189\u001B[0m \u001B[38;5;28;01mreturn\u001B[39;00m y\n",
      "\u001B[1;31mValueError\u001B[0m: could not convert string to float: 'yes'"
     ]
    }
   ],
   "execution_count": 6
  },
  {
   "metadata": {
    "ExecuteTime": {
     "end_time": "2024-11-04T20:29:34.597757Z",
     "start_time": "2024-11-04T20:29:34.582755Z"
    }
   },
   "cell_type": "code",
   "source": [
    "\n",
    "# Печатаем сгенерированные признаки\n",
    "print(\"Сгенерированные признаки:\\n\", feat_eng.new_feat_cols_)"
   ],
   "id": "806c1d72a8c3651e",
   "outputs": [
    {
     "name": "stdout",
     "output_type": "stream",
     "text": [
      "Сгенерированные признаки:\n",
      " []\n"
     ]
    }
   ],
   "execution_count": 4
  }
 ],
 "metadata": {
  "kernelspec": {
   "display_name": "Python 3",
   "language": "python",
   "name": "python3"
  },
  "language_info": {
   "codemirror_mode": {
    "name": "ipython",
    "version": 2
   },
   "file_extension": ".py",
   "mimetype": "text/x-python",
   "name": "python",
   "nbconvert_exporter": "python",
   "pygments_lexer": "ipython2",
   "version": "2.7.6"
  }
 },
 "nbformat": 4,
 "nbformat_minor": 5
}
